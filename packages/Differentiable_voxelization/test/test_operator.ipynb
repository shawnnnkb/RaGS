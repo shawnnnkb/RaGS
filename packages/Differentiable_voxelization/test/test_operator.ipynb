{
 "cells": [
  {
   "cell_type": "markdown",
   "metadata": {},
   "source": [
    "## Forwarding test"
   ]
  },
  {
   "cell_type": "code",
   "execution_count": null,
   "metadata": {},
   "outputs": [],
   "source": [
    "from voxel_ops import Voxelization\n",
    "\n",
    "voxel_module = Voxelization(voxel_size=[0.16, 0.16, 4],\n",
    "                            point_cloud_range=[0, -39.68, -3, 69.12, 39.68, 1],\n",
    "                            max_num_points=32, # number of points per voxel\n",
    "                            max_voxels=40000,\n",
    "                            deterministic=True,  # differentiable only if deterministic==True\n",
    "                            )"
   ]
  },
  {
   "cell_type": "code",
   "execution_count": null,
   "metadata": {},
   "outputs": [],
   "source": [
    "import numpy as np\n",
    "import torch\n",
    "\n",
    "PCS_PATH = \"..\\\\data\\\\000000.bin\"\n",
    "\n",
    "with open(PCS_PATH, 'rb') as f:\n",
    "    data = f.read()\n",
    "\n",
    "data_array = np.frombuffer(data, dtype=np.float32).reshape(-1, 4).copy()\n",
    "pcs = torch.from_numpy(data_array).cuda()\n",
    "pcs.requires_grad_(True)\n",
    "\n",
    "print(pcs)"
   ]
  },
  {
   "cell_type": "code",
   "execution_count": null,
   "metadata": {},
   "outputs": [],
   "source": [
    "voxels_out, coors_out, num_points_per_voxel_out = voxel_module(pcs)\n",
    "print(voxels_out)\n",
    "print(coors_out)\n",
    "print(num_points_per_voxel_out)"
   ]
  },
  {
   "cell_type": "markdown",
   "metadata": {},
   "source": [
    "## Backwarding test"
   ]
  },
  {
   "cell_type": "code",
   "execution_count": null,
   "metadata": {},
   "outputs": [],
   "source": [
    "grads = torch.randn(voxels_out.size(), device=voxels_out.device)\n",
    "voxels_out.backward(grads)\n",
    "\n",
    "print(pcs.grad)"
   ]
  }
 ],
 "metadata": {
  "kernelspec": {
   "display_name": "env_openpcdet_test_cu118",
   "language": "python",
   "name": "python3"
  },
  "language_info": {
   "codemirror_mode": {
    "name": "ipython",
    "version": 3
   },
   "file_extension": ".py",
   "mimetype": "text/x-python",
   "name": "python",
   "nbconvert_exporter": "python",
   "pygments_lexer": "ipython3",
   "version": "3.10.11"
  }
 },
 "nbformat": 4,
 "nbformat_minor": 2
}
